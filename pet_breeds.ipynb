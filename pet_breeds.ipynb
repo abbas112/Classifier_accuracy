{
  "metadata": {
    "kernelspec": {
      "language": "python",
      "display_name": "Python 3",
      "name": "python3"
    },
    "language_info": {
      "name": "python",
      "version": "3.11.11",
      "mimetype": "text/x-python",
      "codemirror_mode": {
        "name": "ipython",
        "version": 3
      },
      "pygments_lexer": "ipython3",
      "nbconvert_exporter": "python",
      "file_extension": ".py"
    },
    "kaggle": {
      "accelerator": "none",
      "dataSources": [
        {
          "sourceId": 11933422,
          "sourceType": "datasetVersion",
          "datasetId": 7502573
        }
      ],
      "dockerImageVersionId": 31040,
      "isInternetEnabled": true,
      "language": "python",
      "sourceType": "notebook",
      "isGpuEnabled": false
    },
    "colab": {
      "name": "pet-breeds",
      "provenance": []
    }
  },
  "nbformat_minor": 0,
  "nbformat": 4,
  "cells": [
    {
      "source": [
        "# IMPORTANT: SOME KAGGLE DATA SOURCES ARE PRIVATE\n",
        "# RUN THIS CELL IN ORDER TO IMPORT YOUR KAGGLE DATA SOURCES.\n",
        "import kagglehub\n",
        "kagglehub.login()\n"
      ],
      "metadata": {
        "id": "EwYQMbVcT67o"
      },
      "cell_type": "code",
      "outputs": [],
      "execution_count": null
    },
    {
      "source": [
        "# IMPORTANT: RUN THIS CELL IN ORDER TO IMPORT YOUR KAGGLE DATA SOURCES,\n",
        "# THEN FEEL FREE TO DELETE THIS CELL.\n",
        "# NOTE: THIS NOTEBOOK ENVIRONMENT DIFFERS FROM KAGGLE'S PYTHON\n",
        "# ENVIRONMENT SO THERE MAY BE MISSING LIBRARIES USED BY YOUR\n",
        "# NOTEBOOK.\n",
        "\n",
        "abbasshahai_grizzly_bear_path = kagglehub.dataset_download('abbasshahai/grizzly-bear')\n",
        "\n",
        "print('Data source import complete.')\n"
      ],
      "metadata": {
        "id": "Dx5XdVTwT67q"
      },
      "cell_type": "code",
      "outputs": [],
      "execution_count": null
    },
    {
      "cell_type": "code",
      "source": [
        "# This Python 3 environment comes with many helpful analytics libraries installed\n",
        "# It is defined by the kaggle/python Docker image: https://github.com/kaggle/docker-python\n",
        "# For example, here's several helpful packages to load\n",
        "\n",
        "import numpy as np # linear algebra\n",
        "import pandas as pd # data processing, CSV file I/O (e.g. pd.read_csv)\n",
        "\n",
        "# Input data files are available in the read-only \"../input/\" directory\n",
        "# For example, running this (by clicking run or pressing Shift+Enter) will list all files under the input directory\n",
        "\n",
        "import os\n",
        "for dirname, _, filenames in os.walk('/kaggle/input'):\n",
        "    for filename in filenames:\n",
        "        print(os.path.join(dirname, filename))\n",
        "\n",
        "# You can write up to 20GB to the current directory (/kaggle/working/) that gets preserved as output when you create a version using \"Save & Run All\"\n",
        "# You can also write temporary files to /kaggle/temp/, but they won't be saved outside of the current session"
      ],
      "metadata": {
        "_uuid": "8f2839f25d086af736a60e9eeb907d3b93b6e0e5",
        "_cell_guid": "b1076dfc-b9ad-4769-8c92-a6c4dae69d19",
        "trusted": true,
        "execution": {
          "iopub.status.busy": "2025-05-24T12:02:31.967714Z",
          "iopub.execute_input": "2025-05-24T12:02:31.968063Z",
          "iopub.status.idle": "2025-05-24T12:02:31.980592Z",
          "shell.execute_reply.started": "2025-05-24T12:02:31.968039Z",
          "shell.execute_reply": "2025-05-24T12:02:31.979446Z"
        },
        "id": "Kt0deXALT67r"
      },
      "outputs": [],
      "execution_count": null
    },
    {
      "cell_type": "code",
      "source": [
        "from fastai.vision.all import *"
      ],
      "metadata": {
        "trusted": true,
        "execution": {
          "iopub.status.busy": "2025-05-24T12:02:31.981645Z",
          "iopub.execute_input": "2025-05-24T12:02:31.981987Z",
          "iopub.status.idle": "2025-05-24T12:02:32.007473Z",
          "shell.execute_reply.started": "2025-05-24T12:02:31.981955Z",
          "shell.execute_reply": "2025-05-24T12:02:32.00651Z"
        },
        "id": "u1Wa0GwpT67r"
      },
      "outputs": [],
      "execution_count": null
    },
    {
      "cell_type": "code",
      "source": [
        "path = untar_data(URLs.PETS)"
      ],
      "metadata": {
        "trusted": true,
        "execution": {
          "iopub.status.busy": "2025-05-24T12:02:32.008688Z",
          "iopub.execute_input": "2025-05-24T12:02:32.009023Z",
          "iopub.status.idle": "2025-05-24T12:02:32.029365Z",
          "shell.execute_reply.started": "2025-05-24T12:02:32.008993Z",
          "shell.execute_reply": "2025-05-24T12:02:32.028347Z"
        },
        "id": "Z5X7JXJtT67r"
      },
      "outputs": [],
      "execution_count": null
    },
    {
      "cell_type": "code",
      "source": [
        "Path.BASE_PATH = path"
      ],
      "metadata": {
        "trusted": true,
        "execution": {
          "iopub.status.busy": "2025-05-24T12:02:32.030633Z",
          "iopub.execute_input": "2025-05-24T12:02:32.030993Z",
          "iopub.status.idle": "2025-05-24T12:02:32.052911Z",
          "shell.execute_reply.started": "2025-05-24T12:02:32.030958Z",
          "shell.execute_reply": "2025-05-24T12:02:32.051905Z"
        },
        "id": "B0bFUpm8T67r"
      },
      "outputs": [],
      "execution_count": null
    },
    {
      "cell_type": "code",
      "source": [
        "path.ls()"
      ],
      "metadata": {
        "trusted": true,
        "execution": {
          "iopub.status.busy": "2025-05-24T12:02:32.054106Z",
          "iopub.execute_input": "2025-05-24T12:02:32.054472Z",
          "iopub.status.idle": "2025-05-24T12:02:32.078563Z",
          "shell.execute_reply.started": "2025-05-24T12:02:32.054449Z",
          "shell.execute_reply": "2025-05-24T12:02:32.07764Z"
        },
        "id": "WlpiHaaaT67r",
        "outputId": "f28575e2-ea8b-485e-9434-0d0fbb08587a"
      },
      "outputs": [
        {
          "execution_count": 13,
          "output_type": "execute_result",
          "data": {
            "text/plain": "(#2) [Path('images'),Path('annotations')]"
          },
          "metadata": {}
        }
      ],
      "execution_count": null
    },
    {
      "cell_type": "code",
      "source": [
        "(path/\"images\").ls()"
      ],
      "metadata": {
        "trusted": true,
        "execution": {
          "iopub.status.busy": "2025-05-24T12:02:32.079663Z",
          "iopub.execute_input": "2025-05-24T12:02:32.080006Z",
          "iopub.status.idle": "2025-05-24T12:02:32.112961Z",
          "shell.execute_reply.started": "2025-05-24T12:02:32.079984Z",
          "shell.execute_reply": "2025-05-24T12:02:32.111652Z"
        },
        "id": "JE53aCOAT67s",
        "outputId": "bd22493f-22f2-49f5-dd08-aa8f6fe52343"
      },
      "outputs": [
        {
          "execution_count": 14,
          "output_type": "execute_result",
          "data": {
            "text/plain": "(#7393) [Path('images/beagle_115.jpg'),Path('images/boxer_18.jpg'),Path('images/Maine_Coon_157.jpg'),Path('images/scottish_terrier_28.jpg'),Path('images/english_setter_6.jpg'),Path('images/american_pit_bull_terrier_79.jpg'),Path('images/boxer_128.jpg'),Path('images/Persian_265.jpg'),Path('images/Maine_Coon_182.jpg'),Path('images/keeshond_89.jpg'),Path('images/chihuahua_82.jpg'),Path('images/basset_hound_5.jpg'),Path('images/english_cocker_spaniel_144.jpg'),Path('images/scottish_terrier_108.jpg'),Path('images/British_Shorthair_116.jpg'),Path('images/boxer_10.jpg'),Path('images/basset_hound_194.jpg'),Path('images/beagle_85.jpg'),Path('images/japanese_chin_87.jpg'),Path('images/pug_40.jpg')...]"
          },
          "metadata": {}
        }
      ],
      "execution_count": null
    },
    {
      "cell_type": "code",
      "source": [
        "fname = (path/'images').ls()[0]\n",
        "fname"
      ],
      "metadata": {
        "trusted": true,
        "execution": {
          "iopub.status.busy": "2025-05-24T12:02:32.114346Z",
          "iopub.execute_input": "2025-05-24T12:02:32.114687Z",
          "iopub.status.idle": "2025-05-24T12:02:32.136915Z",
          "shell.execute_reply.started": "2025-05-24T12:02:32.114664Z",
          "shell.execute_reply": "2025-05-24T12:02:32.136126Z"
        },
        "id": "npBKmnWkT67s",
        "outputId": "d5d8a36b-e9c0-4548-d63c-2cbe445159aa"
      },
      "outputs": [
        {
          "execution_count": 15,
          "output_type": "execute_result",
          "data": {
            "text/plain": "Path('images/beagle_115.jpg')"
          },
          "metadata": {}
        }
      ],
      "execution_count": null
    },
    {
      "cell_type": "markdown",
      "source": [
        "> # r means raw string, . matches any character except newline, + means one or more of the preceding tokens, () is a capture group we only need this part the regex should return, _ a literal underscore, we expect filenames to have an underscore before the number. /d is regex expression for any number from 0-9, + means one or multiple numbers, .jpg here dot is escaped dot, matching the literal dot before the jpg, jpg literally matches these three letters."
      ],
      "metadata": {
        "id": "Net99V6cT67s"
      }
    },
    {
      "cell_type": "code",
      "source": [
        "re.findall(r\"(.+)_\\d+\\.jpg\", fname.name)"
      ],
      "metadata": {
        "trusted": true,
        "execution": {
          "iopub.status.busy": "2025-05-24T12:02:32.138453Z",
          "iopub.execute_input": "2025-05-24T12:02:32.138867Z",
          "iopub.status.idle": "2025-05-24T12:02:32.144934Z",
          "shell.execute_reply.started": "2025-05-24T12:02:32.138843Z",
          "shell.execute_reply": "2025-05-24T12:02:32.144022Z"
        },
        "id": "mtDKaSjAT67u",
        "outputId": "bcf249e0-4487-4b55-987d-e004127efa03"
      },
      "outputs": [
        {
          "execution_count": 16,
          "output_type": "execute_result",
          "data": {
            "text/plain": "['beagle']"
          },
          "metadata": {}
        }
      ],
      "execution_count": null
    },
    {
      "cell_type": "code",
      "source": [
        "pets = DataBlock(blocks = (ImageBlock, CategoryBlock),\n",
        "                get_items = get_image_files,\n",
        "                splitter = RandomSplitter(seed=42),\n",
        "                get_y = using_attr(RegexLabeller(r'(.+)_\\d+\\.jpg'), 'name'),\n",
        "                item_tfms=Resize(460),\n",
        "                batch_tfms=aug_transforms(size=224, min_scale=0.75))\n",
        "dls = pets.dataloaders(path/\"images\")"
      ],
      "metadata": {
        "trusted": true,
        "execution": {
          "iopub.status.busy": "2025-05-24T12:20:30.121213Z",
          "iopub.execute_input": "2025-05-24T12:20:30.121633Z",
          "iopub.status.idle": "2025-05-24T12:20:30.460333Z",
          "shell.execute_reply.started": "2025-05-24T12:20:30.121602Z",
          "shell.execute_reply": "2025-05-24T12:20:30.459342Z"
        },
        "id": "CmCT2QXgT67u"
      },
      "outputs": [],
      "execution_count": null
    },
    {
      "cell_type": "code",
      "source": [
        "from pathlib import Path\n",
        "# this is for comparison of fastai augmentation approach and traditional approach - we uploaded the grizzly bear picture in dataset in kaggle.\n",
        "img_path = Path(\"/kaggle/input/grizzly-bear/characteristics_480px_1200x.jpg.webp\")\n",
        "img_path\n"
      ],
      "metadata": {
        "trusted": true,
        "execution": {
          "iopub.status.busy": "2025-05-24T13:16:56.680562Z",
          "iopub.execute_input": "2025-05-24T13:16:56.680996Z",
          "iopub.status.idle": "2025-05-24T13:16:56.688907Z",
          "shell.execute_reply.started": "2025-05-24T13:16:56.680965Z",
          "shell.execute_reply": "2025-05-24T13:16:56.687942Z"
        },
        "_kg_hide-input": false,
        "id": "kXTvDwTVT67u",
        "outputId": "f0c27d37-7b5d-4f23-f7f1-4b14413dbfbf"
      },
      "outputs": [
        {
          "execution_count": 35,
          "output_type": "execute_result",
          "data": {
            "text/plain": "Path('/kaggle/input/grizzly-bear/characteristics_480px_1200x.jpg.webp')"
          },
          "metadata": {}
        }
      ],
      "execution_count": null
    },
    {
      "cell_type": "code",
      "source": [
        "# A comparison of fastai data augmentation straetgy(left) vs the traditional aproach(right)\n",
        "dblock1 = DataBlock(blocks=(ImageBlock(), CategoryBlock()),\n",
        "                   get_y = parent_label,\n",
        "                   item_tfms=Resize(460))\n",
        "\n",
        "#place an image in the 'images/grizzly,jpg' subfolder where this notebook is located before running this\n",
        "dls1 = dblock1.dataloaders([img_path]*100, bs=8)\n",
        "dls1.train.get_idxs = lambda: inf.ones\n",
        "x,y = dls1.valid.one_batch()\n"
      ],
      "metadata": {
        "trusted": true,
        "execution": {
          "iopub.status.busy": "2025-05-24T13:17:15.040746Z",
          "iopub.execute_input": "2025-05-24T13:17:15.041099Z",
          "iopub.status.idle": "2025-05-24T13:17:15.09698Z",
          "shell.execute_reply.started": "2025-05-24T13:17:15.041075Z",
          "shell.execute_reply": "2025-05-24T13:17:15.096164Z"
        },
        "id": "56009JiGT67u"
      },
      "outputs": [],
      "execution_count": null
    }
  ]
}